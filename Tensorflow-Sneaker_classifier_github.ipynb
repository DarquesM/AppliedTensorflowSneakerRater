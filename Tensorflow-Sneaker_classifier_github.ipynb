{
 "cells": [
  {
   "cell_type": "markdown",
   "metadata": {},
   "source": [
    "# This notebook relies on the Coursera Course \"Improving Deep Neural Networks: Hyperparameter tuning, Regularization and Optimization\" from deeplearning.ai. Please enroll in this class, finish the programming exercises and download the \"Tensorflow_Tutorial\" and \"tf_utils\" files. Insert the correct code in the functions below."
   ]
  },
  {
   "cell_type": "markdown",
   "metadata": {},
   "source": [
    "### Import libraries"
   ]
  },
  {
   "cell_type": "code",
   "execution_count": 3,
   "metadata": {
    "collapsed": true
   },
   "outputs": [],
   "source": [
    "import math\n",
    "import numpy as np\n",
    "import h5py\n",
    "import matplotlib.pyplot as plt\n",
    "import tensorflow as tf\n",
    "from tensorflow.python.framework import ops\n",
    "from tf_utils import load_dataset, random_mini_batches, convert_to_one_hot, predict\n",
    "\n",
    "%matplotlib inline\n",
    "np.random.seed(1)"
   ]
  },
  {
   "cell_type": "markdown",
   "metadata": {},
   "source": [
    "### 2.1 - Create placeholders"
   ]
  },
  {
   "cell_type": "code",
   "execution_count": 35,
   "metadata": {
    "collapsed": true
   },
   "outputs": [],
   "source": [
    "# GRADED FUNCTION: create_placeholders\n",
    "\n",
    "def create_placeholders(n_x, n_y):\n",
    "    \n",
    "    # Insert code from create_placeholders function here\n",
    "    \n",
    "    return X, Y"
   ]
  },
  {
   "cell_type": "code",
   "execution_count": 44,
   "metadata": {
    "collapsed": true
   },
   "outputs": [],
   "source": [
    "# GRADED FUNCTION: initialize_parameters\n",
    "\n",
    "def initialize_parameters():\n",
    "        \n",
    "    # Insert code from initialize_parameters function here.\n",
    "    # MAKE SURE TO ADJUST THE INPUT WEIGHTS W1 AND OUTPUT WEIGHTS HERE TO FIT YOUR IMAGES!\n",
    "    \n",
    "    return parameters"
   ]
  },
  {
   "cell_type": "markdown",
   "metadata": {},
   "source": [
    "### 2.3 - Forward propagation in tensorflow "
   ]
  },
  {
   "cell_type": "code",
   "execution_count": 39,
   "metadata": {
    "collapsed": true
   },
   "outputs": [],
   "source": [
    "# GRADED FUNCTION: forward_propagation\n",
    "\n",
    "def forward_propagation(X, parameters):\n",
    "   \n",
    "    # Insert code from forward_propagation function here.\n",
    "    # IF YOU DECIDE TO TRAIN A DEEPER NETWORK, ALSO ADJUST THE CALCULATIONS HERE.\n",
    "    \n",
    "    return Z3"
   ]
  },
  {
   "cell_type": "markdown",
   "metadata": {},
   "source": [
    "### 2.4 Compute cost"
   ]
  },
  {
   "cell_type": "code",
   "execution_count": 40,
   "metadata": {
    "collapsed": true
   },
   "outputs": [],
   "source": [
    "# GRADED FUNCTION: compute_cost \n",
    "\n",
    "def compute_cost(Z3, Y):\n",
    "    \n",
    "    # Insert code from compute_cost function here.\n",
    "    \n",
    "    return cost"
   ]
  },
  {
   "cell_type": "markdown",
   "metadata": {},
   "source": [
    "### 2.5 - Building the model"
   ]
  },
  {
   "cell_type": "code",
   "execution_count": 41,
   "metadata": {
    "collapsed": true
   },
   "outputs": [],
   "source": [
    "def model(X_train, Y_train, X_test, Y_test, learning_rate = 0.0001,\n",
    "          num_epochs = 1500, minibatch_size = 32, print_cost = True):\n",
    "    \n",
    "    # Insert code from model function here.\n",
    "        \n",
    "        return parameters"
   ]
  },
  {
   "cell_type": "markdown",
   "metadata": {},
   "source": [
    "# Sneaker predictor"
   ]
  },
  {
   "cell_type": "markdown",
   "metadata": {},
   "source": [
    "## Load dataset"
   ]
  },
  {
   "cell_type": "code",
   "execution_count": 25,
   "metadata": {
    "collapsed": true
   },
   "outputs": [],
   "source": [
    "# Read data here. Use only this line of code if you successfully saved the entire image_Rating_matrix\n",
    "data = np.load('./imagerater/final_rated_images/imageAndRatingMatrix100.npy')\n",
    "\n",
    "# Read and append iteratively data from multiple saved files\n",
    "for i in range(2,15):\n",
    "    data_new = np.load('./imagerater/final_rated_images/imageAndRatingMatrix{}00.npy'.format(i))\n",
    "    data = np.append(data, data_new, axis=0)"
   ]
  },
  {
   "cell_type": "markdown",
   "metadata": {},
   "source": [
    "### Transform data to match neural network architecture, split into X and Y"
   ]
  },
  {
   "cell_type": "code",
   "execution_count": 31,
   "metadata": {},
   "outputs": [
    {
     "name": "stdout",
     "output_type": "stream",
     "text": [
      "(188928, 1369)\n",
      "(1, 1369)\n"
     ]
    }
   ],
   "source": [
    "# Shuffle data to randomize the entries\n",
    "np.random.shuffle(data)\n",
    "\n",
    "# Get all data except the last row as the training data\n",
    "X = data[:,:-1].T\n",
    "\n",
    "# Make sure that Y dtype is int64 to not run into errors with one_hot_encoding\n",
    "Y = np.array(data[:,-1].T.reshape(1,data.shape[0]), dtype=np.int64)\n",
    "print(X.shape)\n",
    "print(Y.shape)"
   ]
  },
  {
   "cell_type": "markdown",
   "metadata": {},
   "source": [
    "* Both X and Y now have the correct dimensions to be fed into the neural network. Make sure you adjust the placeholder parameters in the initialize_parameters function! "
   ]
  },
  {
   "cell_type": "markdown",
   "metadata": {},
   "source": [
    "### One hot encode sneaker rater"
   ]
  },
  {
   "cell_type": "code",
   "execution_count": 32,
   "metadata": {},
   "outputs": [
    {
     "data": {
      "text/plain": [
       "(5, 1369)"
      ]
     },
     "execution_count": 32,
     "metadata": {},
     "output_type": "execute_result"
    }
   ],
   "source": [
    "# Our rating scale ranges from 1-5, but apparently one zero rating crept into our training set.\n",
    "# We will generate the one_hot_encoding with six classes and get rid of the row which contains only zeros. \n",
    "Y_OHE = convert_to_one_hot(Y, 6)\n",
    "for i in range (6):\n",
    "    if (np.sum(Y_OHE[0], axis=0) == 0):\n",
    "        Y_OHE = np.delete(Y_OHE, (i), axis=0)\n",
    "Y_OHE.shape"
   ]
  },
  {
   "cell_type": "markdown",
   "metadata": {},
   "source": [
    "### Divide data in training and test splits"
   ]
  },
  {
   "cell_type": "code",
   "execution_count": 34,
   "metadata": {},
   "outputs": [
    {
     "name": "stdout",
     "output_type": "stream",
     "text": [
      "number of training examples = 1219\n",
      "number of test examples = 150\n",
      "X_train shape: (188928, 1219)\n",
      "Y_train shape: (5, 1219)\n",
      "X_test shape: (188928, 150)\n",
      "Y_test shape: (5, 150)\n"
     ]
    }
   ],
   "source": [
    "X_train = X[:,:1219]\n",
    "X_test = X[:,1219:]\n",
    "Y_train = Y_OHE[:,:1219]\n",
    "Y_test = Y_OHE[:,1219:]\n",
    "\n",
    "print (\"number of training examples = \" + str(X_train.shape[1]))\n",
    "print (\"number of test examples = \" + str(X_test.shape[1]))\n",
    "print (\"X_train shape: \" + str(X_train.shape))\n",
    "print (\"Y_train shape: \" + str(Y_train.shape))\n",
    "print (\"X_test shape: \" + str(X_test.shape))\n",
    "print (\"Y_test shape: \" + str(Y_test.shape))"
   ]
  },
  {
   "cell_type": "markdown",
   "metadata": {},
   "source": [
    "# Train your neural network model"
   ]
  },
  {
   "cell_type": "code",
   "execution_count": 45,
   "metadata": {
    "scrolled": false
   },
   "outputs": [
    {
     "name": "stdout",
     "output_type": "stream",
     "text": [
      "n_x: 188928\n",
      "n_y: 5\n",
      "Cost after epoch 0: 1.519138\n",
      "Cost after epoch 100: 1.428907\n",
      "Cost after epoch 200: 1.378570\n",
      "Cost after epoch 300: 1.341133\n",
      "Cost after epoch 400: 1.288298\n",
      "Cost after epoch 500: 1.271644\n",
      "Cost after epoch 600: 1.252591\n",
      "Cost after epoch 700: 1.211348\n",
      "Cost after epoch 800: 1.175020\n",
      "Cost after epoch 900: 1.140434\n",
      "Cost after epoch 1000: 1.139098\n",
      "Cost after epoch 1100: 1.059108\n",
      "Cost after epoch 1200: 1.061202\n",
      "Cost after epoch 1300: 1.058313\n",
      "Cost after epoch 1400: 1.027238\n"
     ]
    },
    {
     "data": {
      "image/png": "[encoded data removed]",
      "text/plain": [
       "<matplotlib.figure.Figure at 0x1232318d0>"
      ]
     },
     "metadata": {},
     "output_type": "display_data"
    },
    {
     "name": "stdout",
     "output_type": "stream",
     "text": [
      "Parameters have been trained!\n",
      "Train Accuracy: 0.246103\n",
      "Test Accuracy: 0.2\n"
     ]
    }
   ],
   "source": [
    "parameters = model(X_train, Y_train, X_test, Y_test)"
   ]
  },
  {
   "cell_type": "markdown",
   "metadata": {},
   "source": [
    "+ Congratulations, you've successfully trained your image classifier.\n",
    "+ The performance is not what we expect from the model, so stay tuned for an update how to optimize and improve the performance."
   ]
  }
 ],
 "metadata": {
  "coursera": {
   "course_slug": "deep-neural-network",
   "graded_item_id": "BFd89",
   "launcher_item_id": "AH2rK"
  },
  "kernelspec": {
   "display_name": "Python 3",
   "language": "python",
   "name": "python3"
  },
  "language_info": {
   "codemirror_mode": {
    "name": "ipython",
    "version": 3
   },
   "file_extension": ".py",
   "mimetype": "text/x-python",
   "name": "python",
   "nbconvert_exporter": "python",
   "pygments_lexer": "ipython3",
   "version": "3.5.3"
  }
 },
 "nbformat": 4,
 "nbformat_minor": 1
}
